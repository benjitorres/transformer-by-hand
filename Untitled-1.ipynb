{
 "cells": [
  {
   "cell_type": "code",
   "execution_count": 7,
   "metadata": {},
   "outputs": [
    {
     "data": {
      "text/plain": [
       "'b'"
      ]
     },
     "execution_count": 7,
     "metadata": {},
     "output_type": "execute_result"
    }
   ],
   "source": [
    "#mainly doing this because dude I thought was my homie is talking to a girl he tried to set me up with previously\n",
    "#ill be good tho\n",
    "\n",
    "#a tokenizer just takes, in this case, a string and turns it into numbers and vice versa right?\n",
    "\n",
    "#the encoder does string --> number\n",
    "#the decoder does number --> string\n",
    "\n",
    "CHARS = [\"a\", \"b\"]\n",
    "\n",
    "def tokenize(s): return [CHARS.index(c) for c in s]\n",
    "\n",
    "def untok(tok): return CHARS[tok]\n",
    "\n",
    "tokenize(\"aabaa\")\n",
    "untok(0) #a=0\n",
    "untok(1) #b=1"
   ]
  },
  {
   "cell_type": "code",
   "execution_count": null,
   "metadata": {},
   "outputs": [],
   "source": []
  }
 ],
 "metadata": {
  "kernelspec": {
   "display_name": "Python 3.11",
   "language": "python",
   "name": "myenv"
  },
  "language_info": {
   "codemirror_mode": {
    "name": "ipython",
    "version": 3
   },
   "file_extension": ".py",
   "mimetype": "text/x-python",
   "name": "python",
   "nbconvert_exporter": "python",
   "pygments_lexer": "ipython3",
   "version": "3.11.5"
  }
 },
 "nbformat": 4,
 "nbformat_minor": 2
}
