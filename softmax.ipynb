{
 "cells": [
  {
   "cell_type": "code",
   "execution_count": 2,
   "metadata": {},
   "outputs": [],
   "source": [
    "import numpy as np"
   ]
  },
  {
   "cell_type": "code",
   "execution_count": 3,
   "metadata": {},
   "outputs": [],
   "source": [
    "def softmax(x):\n",
    "    return(np.exp(x) / np.exp(x).sum())\n",
    "\n",
    "#defining softmax function \n",
    "# 'np.exp(x)' = e^x\n",
    "# so we're just computing: (e^x)/(sum all elements in the array returned by e^x)\n",
    "\"\"\"\n",
    "example: \n",
    "- if we say x = [1, 2, 3]\n",
    "- np.exp(x) = np.exp(1), np.exp(2), np.exp(3)\n",
    "- this is equal to saying e^1, e^2, e^3\n",
    "- and if we execute np.exp(x).sum() then that would equal... \n",
    "- e^1 + e^2 + e^3\n",
    "\"\"\""
   ]
  },
  {
   "cell_type": "code",
   "execution_count": null,
   "metadata": {},
   "outputs": [],
   "source": []
  }
 ],
 "metadata": {
  "kernelspec": {
   "display_name": "Python 3.11",
   "language": "python",
   "name": "myenv"
  },
  "language_info": {
   "codemirror_mode": {
    "name": "ipython",
    "version": 3
   },
   "file_extension": ".py",
   "mimetype": "text/x-python",
   "name": "python",
   "nbconvert_exporter": "python",
   "pygments_lexer": "ipython3",
   "version": "3.11.5"
  }
 },
 "nbformat": 4,
 "nbformat_minor": 2
}
